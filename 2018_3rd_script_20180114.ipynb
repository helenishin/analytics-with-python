{
 "cells": [
  {
   "cell_type": "code",
   "execution_count": 1,
   "metadata": {},
   "outputs": [
    {
     "ename": "SyntaxError",
     "evalue": "invalid syntax (<ipython-input-1-ff68fe07dbea>, line 3)",
     "output_type": "error",
     "traceback": [
      "\u001b[1;36m  File \u001b[1;32m\"<ipython-input-1-ff68fe07dbea>\"\u001b[1;36m, line \u001b[1;32m3\u001b[0m\n\u001b[1;33m    for row infilereader:\u001b[0m\n\u001b[1;37m                       ^\u001b[0m\n\u001b[1;31mSyntaxError\u001b[0m\u001b[1;31m:\u001b[0m invalid syntax\n"
     ]
    }
   ],
   "source": [
    "#2.5 특정 행을 필터링하기\n",
    "#원하는 특정 행을 필터링하기: 특정 단어나 숫자가 포함되어 있는 행만 필요하거나 특정 날짜와 연관된 행만 필요할 수 있다. \n",
    "for row infilereader:\n",
    "    ***if행에 있는 값이 특정한 규칙을 충족한다면***\n",
    "    else:\n",
    "        아니면 뭔가 다른 일을 한다."
   ]
  },
  {
   "cell_type": "code",
   "execution_count": 24,
   "metadata": {},
   "outputs": [
    {
     "name": "stdout",
     "output_type": "stream",
     "text": [
      "C:/Users/hrshin/supplier_data.csv\n"
     ]
    }
   ],
   "source": [
    "#2.5.1특정 조건을 충족하는 행의 필터링\n",
    "##기본 파이썬은 명령프롬프트에서 실행\n",
    "##팬더스\n",
    "#!/urs/bin/env python3\n",
    "import pandas as pd\n",
    "import sys\n",
    "\n",
    "input_file='C:/Users/hrshin/supplier_data.csv'\n",
    "output_file='C:/Users/hrshin/output_please.csv'\n",
    "\n",
    "data_frame=pd.read_csv(input_file)\n",
    "\n",
    "data_frame['Cost']=data_frame['Cost'].str.strip('$').astype(float)\n",
    "data_frame_value_meets_condition=data_frame.loc[(data_frame['Supplier Name'].str.contains('Z'))|(data_frame['Cost']>600.0),:]\n",
    "data_frame_value_meets_condition.to_csv(output_file,index=False)\n",
    "print(input_file)\n"
   ]
  },
  {
   "cell_type": "code",
   "execution_count": 26,
   "metadata": {},
   "outputs": [
    {
     "data": {
      "text/html": [
       "<div>\n",
       "<style>\n",
       "    .dataframe thead tr:only-child th {\n",
       "        text-align: right;\n",
       "    }\n",
       "\n",
       "    .dataframe thead th {\n",
       "        text-align: left;\n",
       "    }\n",
       "\n",
       "    .dataframe tbody tr th {\n",
       "        vertical-align: top;\n",
       "    }\n",
       "</style>\n",
       "<table border=\"1\" class=\"dataframe\">\n",
       "  <thead>\n",
       "    <tr style=\"text-align: right;\">\n",
       "      <th></th>\n",
       "      <th>Supplier Name</th>\n",
       "      <th>Invoice Number</th>\n",
       "      <th>Part Number</th>\n",
       "      <th>Cost</th>\n",
       "      <th>Purchase Date</th>\n",
       "    </tr>\n",
       "  </thead>\n",
       "  <tbody>\n",
       "    <tr>\n",
       "      <th>0</th>\n",
       "      <td>Supplier X</td>\n",
       "      <td>001-1001</td>\n",
       "      <td>5467</td>\n",
       "      <td>750.0</td>\n",
       "      <td>1/20/2014</td>\n",
       "    </tr>\n",
       "    <tr>\n",
       "      <th>1</th>\n",
       "      <td>Supplier X</td>\n",
       "      <td>001-1001</td>\n",
       "      <td>5467</td>\n",
       "      <td>750.0</td>\n",
       "      <td>1/20/2014</td>\n",
       "    </tr>\n",
       "    <tr>\n",
       "      <th>2</th>\n",
       "      <td>Supplier X</td>\n",
       "      <td>920-4803</td>\n",
       "      <td>3321</td>\n",
       "      <td>615.0</td>\n",
       "      <td>2/3/2014</td>\n",
       "    </tr>\n",
       "    <tr>\n",
       "      <th>3</th>\n",
       "      <td>Supplier X</td>\n",
       "      <td>920-4804</td>\n",
       "      <td>3321</td>\n",
       "      <td>615.0</td>\n",
       "      <td>2/10/2014</td>\n",
       "    </tr>\n",
       "    <tr>\n",
       "      <th>4</th>\n",
       "      <td>Supplier X</td>\n",
       "      <td>920-4805</td>\n",
       "      <td>3321</td>\n",
       "      <td>615.0</td>\n",
       "      <td>2/17/2014</td>\n",
       "    </tr>\n",
       "    <tr>\n",
       "      <th>5</th>\n",
       "      <td>Supplier X</td>\n",
       "      <td>920-4806</td>\n",
       "      <td>3321</td>\n",
       "      <td>615.0</td>\n",
       "      <td>2/24/2014</td>\n",
       "    </tr>\n",
       "  </tbody>\n",
       "</table>\n",
       "</div>"
      ],
      "text/plain": [
       "  Supplier Name Invoice Number  Part Number   Cost Purchase Date\n",
       "0    Supplier X       001-1001         5467  750.0     1/20/2014\n",
       "1    Supplier X       001-1001         5467  750.0     1/20/2014\n",
       "2    Supplier X       920-4803         3321  615.0      2/3/2014\n",
       "3    Supplier X       920-4804         3321  615.0     2/10/2014\n",
       "4    Supplier X       920-4805         3321  615.0     2/17/2014\n",
       "5    Supplier X       920-4806         3321  615.0     2/24/2014"
      ]
     },
     "execution_count": 26,
     "metadata": {},
     "output_type": "execute_result"
    }
   ],
   "source": [
    "pd.read_csv(output_file)"
   ]
  },
  {
   "cell_type": "code",
   "execution_count": 29,
   "metadata": {},
   "outputs": [
    {
     "data": {
      "text/plain": [
       "'C:/Users/hrshin/supplier_data.csv'"
      ]
     },
     "execution_count": 29,
     "metadata": {},
     "output_type": "execute_result"
    }
   ],
   "source": [
    "input_file"
   ]
  },
  {
   "cell_type": "code",
   "execution_count": 30,
   "metadata": {},
   "outputs": [
    {
     "data": {
      "text/plain": [
       "'C:/Users/hrshin/output_please.csv'"
      ]
     },
     "execution_count": 30,
     "metadata": {},
     "output_type": "execute_result"
    }
   ],
   "source": [
    "output_file"
   ]
  },
  {
   "cell_type": "code",
   "execution_count": 34,
   "metadata": {},
   "outputs": [],
   "source": [
    "#2.6특정 열 선택하기\n",
    "#2.6.1열의 인덱스 값을 사용하여 특정 열을 선택하는 방법\n",
    "#!/usr/bin/env python3\n",
    "import pandas as pd\n",
    "import sys\n",
    "\n",
    "input_file='C:/Users/hrshin/supplier_data.csv'\n",
    "output_file='C:/Users/hrshin/output261.csv'\n",
    "\n",
    "data_frame=pd.read_csv(input_file)\n",
    "data_frame_column_by_index=data_frame.iloc[:,[0,3]]\n",
    "data_frame_column_by_index.to_csv(output_file,index=False)"
   ]
  },
  {
   "cell_type": "code",
   "execution_count": 36,
   "metadata": {
    "collapsed": true
   },
   "outputs": [],
   "source": [
    "#2.6.2 열의 헤더를 사용하여 특정 열을 선택하는 방법\n",
    "#!/usr/bin/env python3\n",
    "#purchase date에서 오타를 냈더니 header는 나오고 데이터는 안나옴. 신기방기\n",
    "import pandas as pd\n",
    "import sys\n",
    "\n",
    "input_file='C:/Users/hrshin/supplier_data.csv'\n",
    "output_file='C:/Users/hrshin/output262.csv'\n",
    "\n",
    "data_frame=pd.read_csv(input_file)\n",
    "data_frame_column_by_name=data_frame.loc[:,['Invoice Number','Purchase Date']]\n",
    "\n",
    "data_frame_column_by_name.to_csv(output_file,index=False)"
   ]
  },
  {
   "cell_type": "code",
   "execution_count": 44,
   "metadata": {},
   "outputs": [],
   "source": [
    "#2.7 연속된 행 선택하기\n",
    "#csv파일에서 연속된 행을 선택하는 방법을 살펴보기 위해 입력파일에 필요없는 행을 집어 넣는다.\n",
    "#2.7.1 기본 파이썬으로 특정 행을 선택하기 위해 row_counter라는 변수를 추가하겠다. 이 변수로 행 번호를 추적하여 포함할 행을 식별/선택할 수 있다.\n",
    "#아래 코드 중 if문 블록에서도 알 수 있듯이 데이터 행 번호가 3이상이고 15이하인 행만 출력 파일에 쓴다.\n",
    "\n",
    "#!/usr/bin/env python3\n",
    "import csv\n",
    "import sys\n",
    "\n",
    "input_file='C:/Users/hrshin/supplier_data_unnecessary_header_footer.csv'\n",
    "output_file='C:/Users/hrshin/output271_python.csv'\n",
    "\n",
    "row_counter=0\n",
    "with open(input_file,'r',newline='') as csv_in_file:\n",
    "    with open(output_file,'w',newline='') as csv_out_file:\n",
    "        filereader=csv.reader(csv_in_file)\n",
    "        filewriter=csv.writer(csv_out_file)\n",
    "        for row in filereader:\n",
    "            if row_counter>=3 and row_counter<=15:\n",
    "                filewriter.writerow([value.strip() for value in row])\n",
    "            row_counter+=1\n"
   ]
  },
  {
   "cell_type": "code",
   "execution_count": 45,
   "metadata": {
    "collapsed": true
   },
   "outputs": [],
   "source": [
    "#2.7.2팬더스\n",
    "#팬더스는 행의 인덱스 값 또는 열 헤더를 기반으로 행 또는 열을 삭제하기 위한 drop()함수를 제공한다.\n",
    "#drop()함수\n",
    "#iloc()함수\n",
    "#reindex()함수\n",
    "#!/usr/bin/env python3\n",
    "import pandas as pd\n",
    "import sys\n",
    "\n",
    "input_file='C:/Users/hrshin/supplier_data_unnecessary_header_footer.csv'\n",
    "output_file='C:/Users/hrshin/output272_pd.csv'\n",
    "\n",
    "data_frame=pd.read_csv(input_file,header=None)\n",
    "\n",
    "data_frame=data_frame.drop([0,1,2,16,17,18])\n",
    "data_frame.columns=data_frame.iloc[0]\n",
    "data_frame=data_frame.reindex(data_frame.index.drop(3))\n",
    "\n",
    "data_frame.to_csv(output_file,index=False)\n"
   ]
  },
  {
   "cell_type": "code",
   "execution_count": 46,
   "metadata": {
    "collapsed": true
   },
   "outputs": [],
   "source": [
    "#2.8 헤더 추가하기\n",
    "#2.8.1 기본 파이썬\n",
    "#!/usr/bin/env python3\n",
    "import csv\n",
    "import sys\n",
    "\n",
    "input_file='C:/Users/hrshin/supplier_data_no_header_row.csv'\n",
    "output_file='C:/Users/hrshin/output281_python.csv'\n",
    "\n",
    "with open(input_file,'r',newline='') as csv_in_file:\n",
    "    with open(output_file,'w',newline='')as csv_out_file:\n",
    "        filereader=csv.reader(csv_in_file)\n",
    "        filewriter=csv.writer(csv_out_file)\n",
    "        header_list=['Supplier Name','Invoice Number','Part Number','Cost','Purchase Date']\n",
    "        filewriter.writerow(header_list)\n",
    "        for row in filereader:\n",
    "            filewriter.writerow(row)"
   ]
  },
  {
   "cell_type": "code",
   "execution_count": 48,
   "metadata": {},
   "outputs": [],
   "source": [
    "#2.8.2팬더스\n",
    "#read_csv()함수\n",
    "#!/usr/bin/env python3\n",
    "import pandas as pd\n",
    "import sys\n",
    "\n",
    "input_file='C:/Users/hrshin/supplier_data_no_header_row.csv'\n",
    "output_file='C:/Users/hrshin/output282_pd.csv'\n",
    "\n",
    "header_list=['Supplier Name','Invoice Number','Part Number','Cost','Purchase Date']\n",
    "data_frame=pd.read_csv(input_file,header=None,names=header_list)\n",
    "\n",
    "data_frame.to_csv(output_file,index=False)"
   ]
  },
  {
   "cell_type": "code",
   "execution_count": 50,
   "metadata": {},
   "outputs": [
    {
     "name": "stdout",
     "output_type": "stream",
     "text": [
      "Number of files:0\n"
     ]
    }
   ],
   "source": [
    "#2.9여러개의 csv파일 읽기\n",
    "#2.9.1 전체 파일 개수 및 각 파일의 행 및 열 개수 계산\n",
    "#행과 열의 개수를 세어보는 간단한 일부터 시작해보는데, 데이터셋을 이해하는 좋은 방법이기도 하다.\n",
    "#!/usr/bin/env python3\n",
    "import csv\n",
    "import glob\n",
    "import os\n",
    "import sys\n",
    "\n",
    "input_path='C:/Users/hrshin/sales_january_2014'\n",
    "\n",
    "file_counter=0\n",
    "for input_file in glob.glob(os.path.join(input_path,'sales_*')):\n",
    "    row_counter=1\n",
    "    with open(input_file,'r',newline='') as csv_in_file:\n",
    "        filereader=csv.reader(csv_in_file)\n",
    "        header=next(filereader)\n",
    "        for row in filereader:\n",
    "            row_counter+=1\n",
    "    print('{0!s}:\\t{1:d} rows \\t{2:d}columns'.format(os.path.basename(input_file),row_counter,len(header)))\n",
    "    file_counter+=1\n",
    "print('Number of files:{0:d}'.format(file_counter))\n",
    "            "
   ]
  },
  {
   "cell_type": "code",
   "execution_count": 51,
   "metadata": {
    "collapsed": true
   },
   "outputs": [],
   "source": [
    "#2.10 여러 파일의 데이터 합치기\n",
    "#수작업으로 데이터를 연결하면 시간 오래 걸리고, 오류 발생하기 쉬우므로 파이썬으로 여러 파일의 데이터를 합치는 작업을 살펴 본다.\n",
    "#2.10.1 기본 파이썬\n",
    "#!/usr/bin/env python3\n",
    "import csv\n",
    "import glob\n",
    "import os\n",
    "import sys\n",
    "\n",
    "input_path=sys.argv[1]\n",
    "output_file=sys.argv[2]\n",
    "\n",
    "first_file=True\n",
    "for input_file in glob.glob(os.path.join(input_path,'sales_*')):\n",
    "    print(os.path.basename(input_file))\n",
    "    with open(input_file,'r',newline='') as csv_in_file:\n",
    "        with open(output_file,'w',newline='') as csv_out_file:\n",
    "            filereader=csv.reader(csv_in_file)\n",
    "            filewriter=csv.writer(csv_out_file)\n",
    "            if first_file:\n",
    "                for row in filereader:\n",
    "                    filewriter.writerow(row)\n",
    "                first_file=False\n",
    "            else:\n",
    "                header=next(filereader)\n",
    "                for row in filereader:\n",
    "                    filewriter.writerow(row)"
   ]
  },
  {
   "cell_type": "code",
   "execution_count": 60,
   "metadata": {},
   "outputs": [
    {
     "ename": "ValueError",
     "evalue": "No objects to concatenate",
     "output_type": "error",
     "traceback": [
      "\u001b[1;31m---------------------------------------------------------------------------\u001b[0m",
      "\u001b[1;31mValueError\u001b[0m                                Traceback (most recent call last)",
      "\u001b[1;32m<ipython-input-60-1ed571cffca1>\u001b[0m in \u001b[0;36m<module>\u001b[1;34m()\u001b[0m\n\u001b[0;32m     15\u001b[0m     \u001b[0mdata_frame\u001b[0m\u001b[1;33m=\u001b[0m\u001b[0mpd\u001b[0m\u001b[1;33m.\u001b[0m\u001b[0mread_csv\u001b[0m\u001b[1;33m(\u001b[0m\u001b[0mfile\u001b[0m\u001b[1;33m,\u001b[0m\u001b[0mindex_col\u001b[0m\u001b[1;33m=\u001b[0m\u001b[1;32mNone\u001b[0m\u001b[1;33m)\u001b[0m\u001b[1;33m\u001b[0m\u001b[0m\n\u001b[0;32m     16\u001b[0m     \u001b[0mall_data_frames\u001b[0m\u001b[1;33m.\u001b[0m\u001b[0mappend\u001b[0m\u001b[1;33m(\u001b[0m\u001b[0mdata_frame\u001b[0m\u001b[1;33m)\u001b[0m\u001b[1;33m\u001b[0m\u001b[0m\n\u001b[1;32m---> 17\u001b[1;33m \u001b[0mdata_frame_concat\u001b[0m\u001b[1;33m=\u001b[0m\u001b[0mpd\u001b[0m\u001b[1;33m.\u001b[0m\u001b[0mconcat\u001b[0m\u001b[1;33m(\u001b[0m\u001b[0mall_data_frames\u001b[0m\u001b[1;33m,\u001b[0m\u001b[0maxis\u001b[0m\u001b[1;33m=\u001b[0m\u001b[1;36m0\u001b[0m\u001b[1;33m,\u001b[0m\u001b[0mignore_index\u001b[0m\u001b[1;33m=\u001b[0m\u001b[1;32mTrue\u001b[0m\u001b[1;33m)\u001b[0m\u001b[1;33m\u001b[0m\u001b[0m\n\u001b[0m\u001b[0;32m     18\u001b[0m \u001b[0mdata_frame_concat\u001b[0m\u001b[1;33m.\u001b[0m\u001b[0mto_csv\u001b[0m\u001b[1;33m(\u001b[0m\u001b[0moutput_file\u001b[0m\u001b[1;33m,\u001b[0m\u001b[0mindex\u001b[0m\u001b[1;33m=\u001b[0m\u001b[1;32mFalse\u001b[0m\u001b[1;33m)\u001b[0m\u001b[1;33m\u001b[0m\u001b[0m\n\u001b[0;32m     19\u001b[0m \u001b[0mpd\u001b[0m\u001b[1;33m.\u001b[0m\u001b[0mread_csv\u001b[0m\u001b[1;33m(\u001b[0m\u001b[0moutput_file\u001b[0m\u001b[1;33m)\u001b[0m\u001b[1;33m\u001b[0m\u001b[0m\n",
      "\u001b[1;32m~\\Anaconda3\\lib\\site-packages\\pandas\\core\\reshape\\concat.py\u001b[0m in \u001b[0;36mconcat\u001b[1;34m(objs, axis, join, join_axes, ignore_index, keys, levels, names, verify_integrity, copy)\u001b[0m\n\u001b[0;32m    204\u001b[0m                        \u001b[0mkeys\u001b[0m\u001b[1;33m=\u001b[0m\u001b[0mkeys\u001b[0m\u001b[1;33m,\u001b[0m \u001b[0mlevels\u001b[0m\u001b[1;33m=\u001b[0m\u001b[0mlevels\u001b[0m\u001b[1;33m,\u001b[0m \u001b[0mnames\u001b[0m\u001b[1;33m=\u001b[0m\u001b[0mnames\u001b[0m\u001b[1;33m,\u001b[0m\u001b[1;33m\u001b[0m\u001b[0m\n\u001b[0;32m    205\u001b[0m                        \u001b[0mverify_integrity\u001b[0m\u001b[1;33m=\u001b[0m\u001b[0mverify_integrity\u001b[0m\u001b[1;33m,\u001b[0m\u001b[1;33m\u001b[0m\u001b[0m\n\u001b[1;32m--> 206\u001b[1;33m                        copy=copy)\n\u001b[0m\u001b[0;32m    207\u001b[0m     \u001b[1;32mreturn\u001b[0m \u001b[0mop\u001b[0m\u001b[1;33m.\u001b[0m\u001b[0mget_result\u001b[0m\u001b[1;33m(\u001b[0m\u001b[1;33m)\u001b[0m\u001b[1;33m\u001b[0m\u001b[0m\n\u001b[0;32m    208\u001b[0m \u001b[1;33m\u001b[0m\u001b[0m\n",
      "\u001b[1;32m~\\Anaconda3\\lib\\site-packages\\pandas\\core\\reshape\\concat.py\u001b[0m in \u001b[0;36m__init__\u001b[1;34m(self, objs, axis, join, join_axes, keys, levels, names, ignore_index, verify_integrity, copy)\u001b[0m\n\u001b[0;32m    237\u001b[0m \u001b[1;33m\u001b[0m\u001b[0m\n\u001b[0;32m    238\u001b[0m         \u001b[1;32mif\u001b[0m \u001b[0mlen\u001b[0m\u001b[1;33m(\u001b[0m\u001b[0mobjs\u001b[0m\u001b[1;33m)\u001b[0m \u001b[1;33m==\u001b[0m \u001b[1;36m0\u001b[0m\u001b[1;33m:\u001b[0m\u001b[1;33m\u001b[0m\u001b[0m\n\u001b[1;32m--> 239\u001b[1;33m             \u001b[1;32mraise\u001b[0m \u001b[0mValueError\u001b[0m\u001b[1;33m(\u001b[0m\u001b[1;34m'No objects to concatenate'\u001b[0m\u001b[1;33m)\u001b[0m\u001b[1;33m\u001b[0m\u001b[0m\n\u001b[0m\u001b[0;32m    240\u001b[0m \u001b[1;33m\u001b[0m\u001b[0m\n\u001b[0;32m    241\u001b[0m         \u001b[1;32mif\u001b[0m \u001b[0mkeys\u001b[0m \u001b[1;32mis\u001b[0m \u001b[1;32mNone\u001b[0m\u001b[1;33m:\u001b[0m\u001b[1;33m\u001b[0m\u001b[0m\n",
      "\u001b[1;31mValueError\u001b[0m: No objects to concatenate"
     ]
    }
   ],
   "source": [
    "#2.10.2 팬더스\n",
    "#!/usr/bin/env python3\n",
    "import pandas as pd\n",
    "import glob\n",
    "import os\n",
    "import sys\n",
    "\n",
    "input_path=sys.argv[1]\n",
    "output_file=sys.argv[2]\n",
    "\n",
    "all_files=glob.glob(os.path.join(input_path,'sales_*'))\n",
    "\n",
    "all_data_frames=[]\n",
    "for file in all_files:\n",
    "    data_frame=pd.read_csv(file,index_col=None)\n",
    "    all_data_frames.append(data_frame)\n",
    "data_frame_concat=pd.concat(all_data_frames,axis=0,ignore_index=True)\n",
    "data_frame_concat.to_csv(output_file,index=False)\n",
    "pd.read_csv(output_file)\n"
   ]
  },
  {
   "cell_type": "code",
   "execution_count": 55,
   "metadata": {},
   "outputs": [
    {
     "ename": "AttributeError",
     "evalue": "module 'pandas' has no attribute 'read'",
     "output_type": "error",
     "traceback": [
      "\u001b[1;31m---------------------------------------------------------------------------\u001b[0m",
      "\u001b[1;31mAttributeError\u001b[0m                            Traceback (most recent call last)",
      "\u001b[1;32m<ipython-input-55-c6941a1303eb>\u001b[0m in \u001b[0;36m<module>\u001b[1;34m()\u001b[0m\n\u001b[1;32m----> 1\u001b[1;33m \u001b[0mpd\u001b[0m\u001b[1;33m.\u001b[0m\u001b[0mread\u001b[0m\u001b[1;33m(\u001b[0m\u001b[0mall_data_frames\u001b[0m\u001b[1;33m)\u001b[0m\u001b[1;33m\u001b[0m\u001b[0m\n\u001b[0m",
      "\u001b[1;31mAttributeError\u001b[0m: module 'pandas' has no attribute 'read'"
     ]
    }
   ],
   "source": [
    "pd.read(all_data_frames)"
   ]
  },
  {
   "cell_type": "code",
   "execution_count": 64,
   "metadata": {},
   "outputs": [
    {
     "name": "stdout",
     "output_type": "stream",
     "text": [
      "Number of worksheets: 3\n",
      "Worksheet name: january_2013 \tRows: 7 \tColumns: 5\n",
      "Worksheet name: february_2013 \tRows: 7 \tColumns: 5\n",
      "Worksheet name: march_2013 \tRows: 7 \tColumns: 5\n"
     ]
    }
   ],
   "source": [
    "#3장\n",
    "#3.1 엑셀 통합문서 내부 살펴보기\n",
    "#!/usr/bin/env python3\n",
    "import sys\n",
    "from xlrd import open_workbook\n",
    "\n",
    "input_file='C:/Users/hrshin/sales_2013.xlsx'\n",
    "\n",
    "workbook=open_workbook(input_file)\n",
    "print('Number of worksheets:',workbook.nsheets)\n",
    "for worksheet in workbook.sheets():\n",
    "    print(\"Worksheet name:\",worksheet.name,\"\\tRows:\",worksheet.nrows,\"\\tColumns:\",worksheet.ncols)"
   ]
  },
  {
   "cell_type": "code",
   "execution_count": 65,
   "metadata": {
    "collapsed": true
   },
   "outputs": [],
   "source": [
    "#3.2 단일 워크시트 처리\n",
    "#3.2.1 엑셀 파일 읽기 및 쓰기\n",
    "#!/usr/bin/env python3\n",
    "import sys\n",
    "from xlrd import open_workbook\n",
    "from xlwt import Workbook\n",
    "\n",
    "input_file='C:/Users/hrshin/sales_2013.xlsx'\n",
    "oupput_file='321excel_output.xlsx'\n",
    "\n",
    "output_workbook=Workbook()\n",
    "output_worksheet=output_workbook.add_sheet('jan_2013_output')\n",
    "\n",
    "with open_workbook(input_file) as workbook:\n",
    "    worksheet=workbook.sheet_by_name('january_2013')\n",
    "    for row_index in range(worksheet.nrows):\n",
    "        for column_index in range(worksheet.ncols):\n",
    "            output_worksheet.write(row_index,column_index,worksheet.cell_value(row_index,column_index))\n",
    "output_workbook.save(output_file)"
   ]
  },
  {
   "cell_type": "code",
   "execution_count": 66,
   "metadata": {
    "collapsed": true
   },
   "outputs": [],
   "source": [
    "#날짜형식 할당\n",
    "#팬더스\n",
    "#!/usr/bin/env python3\n",
    "import pandas as pd\n",
    "import sys\n",
    "\n",
    "input_file='C:/Users/hrshin/sales_2013.xlsx'\n",
    "output_file='C:/Users/hrshin/pandas_output.xls'\n",
    "\n",
    "data_frame=pd.read_excel(input_file,sheetname='january_2013')\n",
    "\n",
    "writer=pd.ExcelWriter(output_file)\n",
    "data_frame.to_excel(writer,sheet_name='jan_13_output',index=False)\n",
    "writer.save()"
   ]
  },
  {
   "cell_type": "code",
   "execution_count": null,
   "metadata": {
    "collapsed": true
   },
   "outputs": [],
   "source": [
    "#3.2.2특정 행 필터링하기\n"
   ]
  }
 ],
 "metadata": {
  "kernelspec": {
   "display_name": "Python 3",
   "language": "python",
   "name": "python3"
  },
  "language_info": {
   "codemirror_mode": {
    "name": "ipython",
    "version": 3
   },
   "file_extension": ".py",
   "mimetype": "text/x-python",
   "name": "python",
   "nbconvert_exporter": "python",
   "pygments_lexer": "ipython3",
   "version": "3.6.3"
  }
 },
 "nbformat": 4,
 "nbformat_minor": 2
}
