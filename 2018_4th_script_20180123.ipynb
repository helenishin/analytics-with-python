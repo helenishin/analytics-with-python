{
 "cells": [
  {
   "cell_type": "code",
   "execution_count": 3,
   "metadata": {},
   "outputs": [
    {
     "ename": "NameError",
     "evalue": "name 'output_work' is not defined",
     "output_type": "error",
     "traceback": [
      "\u001b[1;31m---------------------------------------------------------------------------\u001b[0m",
      "\u001b[1;31mNameError\u001b[0m                                 Traceback (most recent call last)",
      "\u001b[1;32m<ipython-input-3-43a3f7415319>\u001b[0m in \u001b[0;36m<module>\u001b[1;34m()\u001b[0m\n\u001b[0;32m     12\u001b[0m \u001b[1;33m\u001b[0m\u001b[0m\n\u001b[0;32m     13\u001b[0m \u001b[0moutput_workbook\u001b[0m\u001b[1;33m=\u001b[0m\u001b[0mWorkbook\u001b[0m\u001b[1;33m(\u001b[0m\u001b[1;33m)\u001b[0m\u001b[1;33m\u001b[0m\u001b[0m\n\u001b[1;32m---> 14\u001b[1;33m \u001b[0moutput_worksheet\u001b[0m\u001b[1;33m=\u001b[0m\u001b[0moutput_work\u001b[0m\u001b[1;33m.\u001b[0m\u001b[0madd_sheet\u001b[0m\u001b[1;33m(\u001b[0m\u001b[1;34m'jan_2013_output'\u001b[0m\u001b[1;33m)\u001b[0m\u001b[1;33m\u001b[0m\u001b[0m\n\u001b[0m\u001b[0;32m     15\u001b[0m \u001b[1;33m\u001b[0m\u001b[0m\n\u001b[0;32m     16\u001b[0m \u001b[0msale_amount_column_index\u001b[0m\u001b[1;33m=\u001b[0m\u001b[1;36m3\u001b[0m\u001b[1;33m\u001b[0m\u001b[0m\n",
      "\u001b[1;31mNameError\u001b[0m: name 'output_work' is not defined"
     ]
    }
   ],
   "source": [
    "#3.2.2.특정행 필터링하기\n",
    "#특정 조건을 충족하는 행의 필터링\n",
    "##기본파이썬##\n",
    "\n",
    "#!/usr/bin/env python3\n",
    "import sys\n",
    "from datetime import date\n",
    "from xlrd import open_workbook, xldate_as_tuple\n",
    "from xlwt import Workbook\n",
    "\n",
    "input_file='sales_2013.xlsx'\n",
    "output_file='4output.xls'\n",
    "\n",
    "output_workbook=Workbook()\n",
    "output_worksheet=output_work.add_sheet('jan_2013_output')\n",
    " \n",
    "sale_amount_column_index=3\n",
    "with open_workbook(input_file)as workbook:\n",
    "    worksheet=workbook.sheet_by_name('january_2013')\n",
    "    data=[]\n",
    "    header=worksheet.row_values(0)\n",
    "    data.append(header)\n",
    "    for row_index in range(1,worksheet.nrows):\n",
    "        row_list=[]\n",
    "        sale_amount=worksheet.cell_value(row_index,sale_amount_column_index)\n",
    "        if sale_amount>1400.0:\n",
    "            for column_index in range(worksheet.ncols):\n",
    "                cell_value=worksheet.cell_value(row_index,column_index)\n",
    "                cell_type=worksheet.cell_type(row_index,column_index)\n",
    "                if cell_type==3:\n",
    "                    date_cell=xldate_as_tuple(cell_value,workbook.datemode)\n",
    "                    date_cell=date(*date_cell[0:3]).strftime('%m%d/%Y')\n",
    "                    row_list.append(date_cell)\n",
    "                else:\n",
    "                    row_list.append(cell_value)\n",
    "        if row_list:\n",
    "            data.append(row_list)\n",
    "            \n",
    "    for list_index,output_list in enumerate(data):\n",
    "        for element_index,element in enumerate(output_list):\n",
    "            output_worksheet.write(list_index,element_index,element)\n",
    "            \n",
    "output_workbook.save(output_file)"
   ]
  },
  {
   "cell_type": "code",
   "execution_count": 10,
   "metadata": {},
   "outputs": [
    {
     "ename": "PermissionError",
     "evalue": "[Errno 13] Permission denied: '4output_pandas.xls'",
     "output_type": "error",
     "traceback": [
      "\u001b[1;31m---------------------------------------------------------------------------\u001b[0m",
      "\u001b[1;31mPermissionError\u001b[0m                           Traceback (most recent call last)",
      "\u001b[1;32m<ipython-input-10-82c6437df38c>\u001b[0m in \u001b[0;36m<module>\u001b[1;34m()\u001b[0m\n\u001b[0;32m     12\u001b[0m \u001b[0mwriter\u001b[0m\u001b[1;33m=\u001b[0m\u001b[0mpd\u001b[0m\u001b[1;33m.\u001b[0m\u001b[0mExcelWriter\u001b[0m\u001b[1;33m(\u001b[0m\u001b[0moutput_file\u001b[0m\u001b[1;33m)\u001b[0m\u001b[1;33m\u001b[0m\u001b[0m\n\u001b[0;32m     13\u001b[0m \u001b[0mdata_frame_value_meets_condition\u001b[0m\u001b[1;33m.\u001b[0m\u001b[0mto_excel\u001b[0m\u001b[1;33m(\u001b[0m\u001b[0mwriter\u001b[0m\u001b[1;33m,\u001b[0m\u001b[0msheet_name\u001b[0m\u001b[1;33m=\u001b[0m\u001b[1;34m'jan_13_output'\u001b[0m\u001b[1;33m,\u001b[0m\u001b[0mindex\u001b[0m\u001b[1;33m=\u001b[0m\u001b[1;32mFalse\u001b[0m\u001b[1;33m)\u001b[0m\u001b[1;33m\u001b[0m\u001b[0m\n\u001b[1;32m---> 14\u001b[1;33m \u001b[0mwriter\u001b[0m\u001b[1;33m.\u001b[0m\u001b[0msave\u001b[0m\u001b[1;33m(\u001b[0m\u001b[1;33m)\u001b[0m\u001b[1;33m\u001b[0m\u001b[0m\n\u001b[0m\u001b[0;32m     15\u001b[0m \u001b[1;33m\u001b[0m\u001b[0m\n\u001b[0;32m     16\u001b[0m \u001b[0mdata_frame\u001b[0m\u001b[1;33m\u001b[0m\u001b[0m\n",
      "\u001b[1;32m~\\Anaconda3\\lib\\site-packages\\pandas\\io\\excel.py\u001b[0m in \u001b[0;36msave\u001b[1;34m(self)\u001b[0m\n\u001b[0;32m   1421\u001b[0m         \u001b[0mSave\u001b[0m \u001b[0mworkbook\u001b[0m \u001b[0mto\u001b[0m \u001b[0mdisk\u001b[0m\u001b[1;33m.\u001b[0m\u001b[1;33m\u001b[0m\u001b[0m\n\u001b[0;32m   1422\u001b[0m         \"\"\"\n\u001b[1;32m-> 1423\u001b[1;33m         \u001b[1;32mreturn\u001b[0m \u001b[0mself\u001b[0m\u001b[1;33m.\u001b[0m\u001b[0mbook\u001b[0m\u001b[1;33m.\u001b[0m\u001b[0msave\u001b[0m\u001b[1;33m(\u001b[0m\u001b[0mself\u001b[0m\u001b[1;33m.\u001b[0m\u001b[0mpath\u001b[0m\u001b[1;33m)\u001b[0m\u001b[1;33m\u001b[0m\u001b[0m\n\u001b[0m\u001b[0;32m   1424\u001b[0m \u001b[1;33m\u001b[0m\u001b[0m\n\u001b[0;32m   1425\u001b[0m     def write_cells(self, cells, sheet_name=None, startrow=0, startcol=0,\n",
      "\u001b[1;32m~\\Anaconda3\\lib\\site-packages\\xlwt\\Workbook.py\u001b[0m in \u001b[0;36msave\u001b[1;34m(self, filename_or_stream)\u001b[0m\n\u001b[0;32m    708\u001b[0m \u001b[1;33m\u001b[0m\u001b[0m\n\u001b[0;32m    709\u001b[0m         \u001b[0mdoc\u001b[0m \u001b[1;33m=\u001b[0m \u001b[0mCompoundDoc\u001b[0m\u001b[1;33m.\u001b[0m\u001b[0mXlsDoc\u001b[0m\u001b[1;33m(\u001b[0m\u001b[1;33m)\u001b[0m\u001b[1;33m\u001b[0m\u001b[0m\n\u001b[1;32m--> 710\u001b[1;33m         \u001b[0mdoc\u001b[0m\u001b[1;33m.\u001b[0m\u001b[0msave\u001b[0m\u001b[1;33m(\u001b[0m\u001b[0mfilename_or_stream\u001b[0m\u001b[1;33m,\u001b[0m \u001b[0mself\u001b[0m\u001b[1;33m.\u001b[0m\u001b[0mget_biff_data\u001b[0m\u001b[1;33m(\u001b[0m\u001b[1;33m)\u001b[0m\u001b[1;33m)\u001b[0m\u001b[1;33m\u001b[0m\u001b[0m\n\u001b[0m\u001b[0;32m    711\u001b[0m \u001b[1;33m\u001b[0m\u001b[0m\n\u001b[0;32m    712\u001b[0m \u001b[1;33m\u001b[0m\u001b[0m\n",
      "\u001b[1;32m~\\Anaconda3\\lib\\site-packages\\xlwt\\CompoundDoc.py\u001b[0m in \u001b[0;36msave\u001b[1;34m(self, file_name_or_filelike_obj, stream)\u001b[0m\n\u001b[0;32m    260\u001b[0m         \u001b[0mwe_own_it\u001b[0m \u001b[1;33m=\u001b[0m \u001b[1;32mnot\u001b[0m \u001b[0mhasattr\u001b[0m\u001b[1;33m(\u001b[0m\u001b[0mf\u001b[0m\u001b[1;33m,\u001b[0m \u001b[1;34m'write'\u001b[0m\u001b[1;33m)\u001b[0m\u001b[1;33m\u001b[0m\u001b[0m\n\u001b[0;32m    261\u001b[0m         \u001b[1;32mif\u001b[0m \u001b[0mwe_own_it\u001b[0m\u001b[1;33m:\u001b[0m\u001b[1;33m\u001b[0m\u001b[0m\n\u001b[1;32m--> 262\u001b[1;33m             \u001b[0mf\u001b[0m \u001b[1;33m=\u001b[0m \u001b[0mopen\u001b[0m\u001b[1;33m(\u001b[0m\u001b[0mfile_name_or_filelike_obj\u001b[0m\u001b[1;33m,\u001b[0m \u001b[1;34m'w+b'\u001b[0m\u001b[1;33m)\u001b[0m\u001b[1;33m\u001b[0m\u001b[0m\n\u001b[0m\u001b[0;32m    263\u001b[0m         \u001b[0mf\u001b[0m\u001b[1;33m.\u001b[0m\u001b[0mwrite\u001b[0m\u001b[1;33m(\u001b[0m\u001b[0mself\u001b[0m\u001b[1;33m.\u001b[0m\u001b[0mheader\u001b[0m\u001b[1;33m)\u001b[0m\u001b[1;33m\u001b[0m\u001b[0m\n\u001b[0;32m    264\u001b[0m         \u001b[0mf\u001b[0m\u001b[1;33m.\u001b[0m\u001b[0mwrite\u001b[0m\u001b[1;33m(\u001b[0m\u001b[0mself\u001b[0m\u001b[1;33m.\u001b[0m\u001b[0mpacked_MSAT_1st\u001b[0m\u001b[1;33m)\u001b[0m\u001b[1;33m\u001b[0m\u001b[0m\n",
      "\u001b[1;31mPermissionError\u001b[0m: [Errno 13] Permission denied: '4output_pandas.xls'"
     ]
    }
   ],
   "source": [
    "##팬더스##\n",
    "#!/usr/bin/env python3\n",
    "import pandas as pd\n",
    "import sys\n",
    "\n",
    "input_file='sales_2013.xlsx'\n",
    "output_file='4output_pandas.xls'\n",
    "\n",
    "data_frame=pd.read_excel(input_file,'january_2013',index_col=None)\n",
    "data_frame_value_meets_condition=data_frame[data_frame['Sale Amount'].astype(float)>1400.0]\n",
    "\n",
    "writer=pd.ExcelWriter(output_file)\n",
    "data_frame_value_meets_condition.to_excel(writer,sheet_name='jan_13_output',index=False)\n",
    "writer.save()\n",
    "\n"
   ]
  },
  {
   "cell_type": "code",
   "execution_count": 11,
   "metadata": {
    "collapsed": true
   },
   "outputs": [],
   "source": [
    "#특정 집합의 값을 포함하는 행의 필터링\n",
    "##기본 파이썬##\n"
   ]
  },
  {
   "cell_type": "code",
   "execution_count": 13,
   "metadata": {},
   "outputs": [],
   "source": [
    "##팬더스##\n",
    "#!/usr/bin/env python3\n",
    "import pandas as pd\n",
    "import sys\n",
    "\n",
    "input_file='sales_2013.xlsx'\n",
    "output_file='5output_pandas.xls'\n",
    "\n",
    "data_frame=pd.read_excel(input_file,'january_2013',index_col=None)\n",
    "\n",
    "important_dates=['01/24/2013','01/31/2013']\n",
    "data_frame_value_in_set=data_frame[data_frame['Purchase Date'].isin(important_dates)]\n",
    "\n",
    "writer=pd.ExcelWriter(output_file)\n",
    "data_frame_value_in_set.to_excel(writer,sheet_name='jan_13_output',index=False)\n",
    "writer.save()"
   ]
  },
  {
   "cell_type": "code",
   "execution_count": 14,
   "metadata": {
    "collapsed": true
   },
   "outputs": [],
   "source": [
    "#!/usr/bin/env python3\n",
    "#important date가 01월이냐 1월이냐에 따라 다른 파일이 떨어진다.\n",
    "#포인트는 isin함수\n",
    "import pandas as pd\n",
    "import sys\n",
    "\n",
    "input_file='sales_2013.xlsx'\n",
    "output_file='5output_pandas_re.xls'\n",
    "\n",
    "data_frame=pd.read_excel(input_file,'january_2013',index_col=None)\n",
    "\n",
    "important_dates=['1/24/2013','1/31/2013']\n",
    "data_frame_value_in_set=data_frame[data_frame['Purchase Date'].isin(important_dates)]\n",
    "\n",
    "writer=pd.ExcelWriter(output_file)\n",
    "data_frame_value_in_set.to_excel(writer,sheet_name='jan_13_output',index=False)\n",
    "writer.save()"
   ]
  },
  {
   "cell_type": "code",
   "execution_count": 17,
   "metadata": {},
   "outputs": [],
   "source": [
    "#패턴을 활용한 필터링\n",
    "##팬더스##\n",
    "#startswith(\"\"), endswith, match, search 등 텍스트의 하위 문자열과 패턴을 식별할 수 있는 문자열과 정규 표현식 함수를 제공한다.\n",
    "\n",
    "#!/usr/bin/env python3\n",
    "import pandas as pd\n",
    "import sys\n",
    "\n",
    "input_file='sales_2013.xlsx'\n",
    "output_file='6output_pandas.xls'\n",
    "\n",
    "data_frame=pd.read_excel(input_file,'january_2013',index_col=None)\n",
    "\n",
    "data_frame_value_matches_pattern=data_frame[data_frame['Customer Name'].str.startswith(\"J\")]\n",
    "\n",
    "writer=pd.ExcelWriter(output_file)\n",
    "data_frame_value_matches_pattern.to_excel(writer,sheet_name='jan_13_output',index=False)\n",
    "writer.save()"
   ]
  },
  {
   "cell_type": "code",
   "execution_count": 18,
   "metadata": {
    "collapsed": true
   },
   "outputs": [],
   "source": [
    "#3.2.3 특정 열 선택하기\n",
    "##열의 인덱스 값을 사용하기\n",
    "##열의 헤더를 사용하기\n",
    "\n",
    "##팬더스##\n",
    "#iloc함수 사용할 때 [:,sth]을 넣어야하는데 :을 안넣으면 행을 필터링함\n",
    "#!/usr/bin/env python3\n",
    "import pandas as pd\n",
    "import sys\n",
    "\n",
    "input_file='sales_2013.xlsx'\n",
    "output_file='7output_pandas.xls'\n",
    "\n",
    "data_frame=pd.read_excel(input_file,'january_2013',index_col=None)\n",
    "\n",
    "data_frame_column_by_index=data_frame.iloc[:,[1,4]]\n",
    "\n",
    "writer=pd.ExcelWriter(output_file)\n",
    "data_frame_column_by_index.to_excel(writer,sheet_name='jan_13_output',index=False)\n",
    "writer.save()"
   ]
  },
  {
   "cell_type": "code",
   "execution_count": 19,
   "metadata": {
    "collapsed": true
   },
   "outputs": [],
   "source": [
    "#John Smith가 0이고, Mary Harrison이 1이다\n",
    "#!/usr/bin/env python3\n",
    "import pandas as pd\n",
    "import sys\n",
    "\n",
    "input_file='sales_2013.xlsx'\n",
    "output_file='7output_pandas_test.xls'\n",
    "\n",
    "data_frame=pd.read_excel(input_file,'january_2013',index_col=None)\n",
    "\n",
    "data_frame_column_by_index=data_frame.iloc[[1,4]]\n",
    "\n",
    "writer=pd.ExcelWriter(output_file)\n",
    "data_frame_column_by_index.to_excel(writer,sheet_name='jan_13_output',index=False)\n",
    "writer.save()"
   ]
  },
  {
   "cell_type": "code",
   "execution_count": 20,
   "metadata": {
    "collapsed": true
   },
   "outputs": [],
   "source": [
    "#열 헤더를 사용하여 특정 열 선택하기\n",
    "##팬더스##\n",
    "##loc함수[:,sth]\n",
    "#!/usr/bin/env python3\n",
    "import pandas as pd\n",
    "import sys\n",
    "\n",
    "input_file='sales_2013.xlsx'\n",
    "output_file='8output_pandas.xls'\n",
    "\n",
    "data_frame=pd.read_excel(input_file,'january_2013',index_col=None)\n",
    "\n",
    "data_frame_column_by_name=data_frame.loc[:,['Customer ID','Purchase Date']]\n",
    "\n",
    "writer=pd.ExcelWriter(output_file)\n",
    "data_frame_column_by_name.to_excel(writer,sheet_name='jan_13_output',index=False)\n",
    "writer.save()"
   ]
  },
  {
   "cell_type": "code",
   "execution_count": 22,
   "metadata": {},
   "outputs": [],
   "source": [
    "#3.3 통합 문서의 모든 워크시트 읽기\n",
    "#3.3.1 모든 워크시트에서 특정 행 필터링하기\n",
    "##팬더스##\n",
    "#팬더스를 사용하면 read_excel()함수에서 sheetname=None으로 한번에 통합 문서의 모든 워크시트를 읽을 수 있다.\n",
    "#!/usr/bin/env python3\n",
    "import pandas as pd\n",
    "import sys\n",
    "\n",
    "input_file='sales_2013.xlsx'\n",
    "output_file='9output_pandas.xls'\n",
    "\n",
    "data_frame=pd.read_excel(input_file,sheetname=None,index_col=None)\n",
    "\n",
    "row_output=[]\n",
    "for worksheet_name,data in data_frame.items():\n",
    "    row_output.append(data[data['Sale Amount'].replace('$','').replace(',','').astype(float)>2000.0])\n",
    "filtered_rows=pd.concat(row_output,axis=0,ignore_index=True)\n",
    "\n",
    "writer=pd.ExcelWriter(output_file)\n",
    "filtered_rows.to_excel(writer,sheet_name='sale_amount_gt2000',index=False)\n",
    "writer.save()\n",
    "    "
   ]
  },
  {
   "cell_type": "code",
   "execution_count": 23,
   "metadata": {
    "collapsed": true
   },
   "outputs": [],
   "source": [
    "#3.3.2 모든 워크시트에서 특정 열 선택하기"
   ]
  },
  {
   "cell_type": "code",
   "execution_count": 25,
   "metadata": {
    "collapsed": true
   },
   "outputs": [],
   "source": [
    "#3.4 엑셀 통합 문서에서 워크시트 집합 읽기\n",
    "#3.4.1. 워크시트 집합에 걸쳐서 특정 행 필터링하기\n",
    "##팬더스##\n",
    "#!/usr/bin/env python3\n",
    "import pandas as pd\n",
    "import sys\n",
    "\n",
    "input_file='sales_2013.xlsx'\n",
    "output_file='11output_pandas.xls'\n",
    "\n",
    "my_sheets=[0,1]\n",
    "threshold=1900.0\n",
    "\n",
    "data_frame=pd.read_excel(input_file,sheetname=my_sheets,index_col=None)\n",
    "\n",
    "row_list=[]\n",
    "for worksheet_name,data in data_frame.items():\n",
    "    row_list.append(data[data['Sale Amount'].astype(float)>threshold])\n",
    "filtered_rows=pd.concat(row_list,axis=0,ignore_index=True)\n",
    "\n",
    "writer=pd.ExcelWriter(output_file)\n",
    "filtered_rows.to_excel(writer,sheet_name='set_of_worksheets',index=False)\n",
    "writer.save()"
   ]
  },
  {
   "cell_type": "code",
   "execution_count": 27,
   "metadata": {},
   "outputs": [
    {
     "name": "stdout",
     "output_type": "stream",
     "text": [
      "Number of Excel workbooks:0\n"
     ]
    }
   ],
   "source": [
    "#3.5 여러 개의 통합 문서 처리하기\n",
    "#3.5.1 통합 문서의 개수 및 각 통합 문서의 행과 열 개수 세기\n",
    "#!/usr/bin/env python3\n",
    "import glob\n",
    "import os \n",
    "import sys\n",
    "from xlrd import open_workbook\n",
    "\n",
    "input_directory=sys.argv[1]\n",
    "\n",
    "workbook_counter=0\n",
    "for input_file in glob.glob(os.path.join(input_directory,'*.xls*')):\n",
    "    workbook=open_workbook(input_file)\n",
    "    print('Workbook:{}'.format(os.path.basename(input_file)))\n",
    "    print('Number of worksheets:{}'.format(workbook.nsheets))\n",
    "    for worksheet in workbook.sheets():\n",
    "        print('Worksheet name:',worksheet.name,'\\tRows:',worksheet.nrows,'\\tColumns:',worksheet.ncols)\n",
    "    workbook_counter += 1\n",
    "print('Number of Excel workbooks:{}'.format(workbook_counter))"
   ]
  },
  {
   "cell_type": "code",
   "execution_count": null,
   "metadata": {
    "collapsed": true
   },
   "outputs": [],
   "source": []
  }
 ],
 "metadata": {
  "kernelspec": {
   "display_name": "Python 3",
   "language": "python",
   "name": "python3"
  },
  "language_info": {
   "codemirror_mode": {
    "name": "ipython",
    "version": 3
   },
   "file_extension": ".py",
   "mimetype": "text/x-python",
   "name": "python",
   "nbconvert_exporter": "python",
   "pygments_lexer": "ipython3",
   "version": "3.6.3"
  }
 },
 "nbformat": 4,
 "nbformat_minor": 2
}
