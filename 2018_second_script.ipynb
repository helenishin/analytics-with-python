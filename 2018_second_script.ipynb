{
 "cells": [
  {
   "cell_type": "code",
   "execution_count": 1,
   "metadata": {},
   "outputs": [
    {
     "data": {
      "text/plain": [
       "'C:\\\\Users\\\\hrshin'"
      ]
     },
     "execution_count": 1,
     "metadata": {},
     "output_type": "execute_result"
    }
   ],
   "source": [
    "% pwd"
   ]
  },
  {
   "cell_type": "code",
   "execution_count": 2,
   "metadata": {},
   "outputs": [
    {
     "name": "stdout",
     "output_type": "stream",
     "text": [
      " C 드라이브의 볼륨에는 이름이 없습니다.\n",
      " 볼륨 일련 번호: C41E-5161\n",
      "\n",
      " C:\\Users\\hrshin 디렉터리\n",
      "\n"
     ]
    },
    {
     "name": "stderr",
     "output_type": "stream",
     "text": [
      "파일을 찾을 수 없습니다.\n"
     ]
    }
   ],
   "source": [
    "% ls -la"
   ]
  },
  {
   "cell_type": "code",
   "execution_count": 6,
   "metadata": {
    "scrolled": true
   },
   "outputs": [
    {
     "name": "stdout",
     "output_type": "stream",
     "text": [
      "['Supplier Name', 'Invoice Number', 'Part Number', 'Cost', 'Purchase Date']\n",
      "['Supplier X', '001-1001', '2341', '$500.00 ', '1/20/14']\n",
      "['Supplier X', '001-1001', '2341', '$500.00 ', '1/20/14']\n",
      "['Supplier X', '001-1001', '5467', '$750.00 ', '1/20/14']\n",
      "['Supplier X', '001-1001', '5467', '$750.00 ', '1/20/14']\n",
      "['Supplier Y', '50-9501', '7009', '$250.00 ', '1/30/14']\n",
      "['Supplier Y', '50-9501', '7009', '$250.00 ', '1/30/14']\n",
      "['Supplier Y', '50-9505', '6650', '$125.00 ', '2002-03-14']\n",
      "['Supplier Y', '50-9505', '6650', '$125.00 ', '2002-03-14']\n",
      "['Supplier Z', '920-4803', '3321', '$615.00 ', '2002-03-14']\n",
      "['Supplier Z', '920-4804', '3321', '$615.00 ', '2002-10-14']\n",
      "['Supplier Z', '920-4805', '3321', '\"$6', '015.00 \"', '2/17/14']\n",
      "['Supplier Z', '920-4806', '3321', '\"$1', '006', '015.00 \"', '2/24/14']\n"
     ]
    }
   ],
   "source": [
    "#2장으로 일단 넘어가자\n",
    "#제발 \n",
    "#!/usr/bin/env pyhton3\n",
    "import sys\n",
    "\n",
    "input_file='supplier_data.csv'\n",
    "output_file='real.csv'\n",
    "\n",
    "\n",
    "with open(input_file,'r',newline='') as filereader:\n",
    "    with open(output_file,'w',newline='') as filewriter:\n",
    "        header=filereader.readline()\n",
    "        header=header.strip()\n",
    "        header_list=header.split(',')\n",
    "        print(header_list)\n",
    "        filewriter.write(','.join(map(str,header_list))+'\\n')\n",
    "        for row in filereader:\n",
    "            row =row.strip()\n",
    "            row_list=row.split(',')\n",
    "            print(row_list)\n",
    "            filewriter.write(','.join(map(str,row_list))+'\\n')"
   ]
  },
  {
   "cell_type": "code",
   "execution_count": 7,
   "metadata": {},
   "outputs": [
    {
     "name": "stdout",
     "output_type": "stream",
     "text": [
      " C 드라이브의 볼륨에는 이름이 없습니다.\n",
      " 볼륨 일련 번호: C41E-5161\n",
      "\n",
      " C:\\Users\\hrshin 디렉터리\n",
      "\n",
      "2018-01-09  오후 08:24    <DIR>          .\n",
      "2018-01-09  오후 08:24    <DIR>          ..\n",
      "2017-12-19  오후 10:54    <DIR>          .anaconda\n",
      "2015-04-30  오후 01:12    <DIR>          .atom\n",
      "2018-01-09  오후 08:27    <DIR>          .conda\n",
      "2018-01-06  오후 05:28                43 .condarc\n",
      "2018-01-08  오전 09:51               181 .gitconfig\n",
      "2018-01-09  오후 07:27    <DIR>          .ipynb_checkpoints\n",
      "2017-12-11  오후 11:55    <DIR>          .ipython\n",
      "2017-12-19  오후 11:53    <DIR>          .jupyter\n",
      "2017-12-19  오후 10:58    <DIR>          .matplotlib\n",
      "2018-01-06  오후 08:39    <DIR>          .spyder-py3\n",
      "2018-01-06  오후 08:22               682 1csv_read_with_simple_parsing_and_write.py\n",
      "2018-01-06  오후 08:20            66,252 2017_first_script.ipynb\n",
      "2018-01-09  오후 08:22            27,671 2018_second_script.ipynb\n",
      "2018-01-06  오후 10:28               743 3csv_reader_value_meets_condition.py\n",
      "2015-09-10  오전 11:10           205,824 8월_원천징수_150902_예진희님버전.xlsx\n",
      "2017-12-20  오전 12:52    <DIR>          Anaconda3\n",
      "2017-12-19  오후 11:41       539,829,832 Anaconda3-5.0.1-Windows-x86_64 (1).exe\n",
      "2017-12-11  오후 11:32       539,829,832 Anaconda3-5.0.1-Windows-x86_64.exe\n",
      "2017-11-05  오후 09:56    <DIR>          Contacts\n",
      "2018-01-08  오전 09:48    <DIR>          Desktop\n",
      "2018-01-02  오후 08:25    <DIR>          Documents\n",
      "2018-01-06  오후 06:39    <DIR>          Downloads\n",
      "2017-11-05  오후 09:56    <DIR>          Favorites\n",
      "2018-01-06  오후 06:30               259 file_to_read.txt\n",
      "2017-12-27  오후 10:37             1,414 first_script_20171227.py.ipynb\n",
      "2016-11-03  오전 01:11    <DIR>          Google 드라이브\n",
      "2017-11-05  오후 09:56    <DIR>          Links\n",
      "2017-11-05  오후 09:56    <DIR>          Music\n",
      "2015-09-10  오전 11:03        12,033,456 NATEON50.exe\n",
      "2017-12-21  오전 12:19         1,434,504 NDP471-KB4033344-Web.exe\n",
      "2017-11-05  오후 09:56    <DIR>          Pictures\n",
      "2018-01-06  오후 06:26                 0 python\n",
      "2017-12-20  오후 01:09        30,653,888 python-3.6.4 (1).exe\n",
      "2017-12-20  오후 01:11        30,653,888 python-3.6.4 (2).exe\n",
      "2017-12-19  오후 11:44        30,653,888 python-3.6.4.exe\n",
      "2018-01-09  오후 08:27               584 real.csv\n",
      "2017-11-05  오후 09:56    <DIR>          Saved Games\n",
      "2017-11-05  오후 09:56    <DIR>          Searches\n",
      "2017-12-21  오전 12:19        20,065,096 SourceTreeSetup-2.3.5.0.exe\n",
      "2018-01-02  오후 08:22             2,529 study_180102.ipynb\n",
      "2018-01-06  오후 09:04               597 supplier_data.csv\n",
      "2018-01-09  오후 08:24               693 test.py\n",
      "2018-01-09  오후 08:24               584 test_supplier.csv\n",
      "2018-01-09  오후 07:29               581 Untitled.ipynb\n",
      "2018-01-06  오후 08:21               682 untitled2.py\n",
      "2017-11-05  오후 09:56    <DIR>          Videos\n",
      "2017-12-14  오후 11:48            13,469 해외여행_준비물_체크리스트.xlsx\n",
      "              26개 파일       1,205,477,172 바이트\n",
      "              23개 디렉터리  37,927,436,288 바이트 남음\n"
     ]
    }
   ],
   "source": [
    "% ls"
   ]
  },
  {
   "cell_type": "code",
   "execution_count": 8,
   "metadata": {},
   "outputs": [
    {
     "data": {
      "text/plain": [
       "'C:\\\\Users\\\\hrshin\\\\AppData\\\\Roaming\\\\jupyter\\\\runtime\\\\kernel-cc411646-c450-49ca-818b-e0cd52cc1aee.json'"
      ]
     },
     "execution_count": 8,
     "metadata": {},
     "output_type": "execute_result"
    }
   ],
   "source": [
    "sys.argv[1]\n",
    "sys.argv[2]\n"
   ]
  },
  {
   "cell_type": "code",
   "execution_count": 10,
   "metadata": {},
   "outputs": [
    {
     "data": {
      "text/plain": [
       "'C:\\\\Users\\\\hrshin'"
      ]
     },
     "execution_count": 10,
     "metadata": {},
     "output_type": "execute_result"
    }
   ],
   "source": [
    "%pwd\n"
   ]
  },
  {
   "cell_type": "code",
   "execution_count": 14,
   "metadata": {},
   "outputs": [
    {
     "name": "stdout",
     "output_type": "stream",
     "text": [
      "   Supplier Name Invoice Number  Part Number     Cost Purchase Date\n",
      "0     Supplier X       001-1001         2341  $500.00       1/20/14\n",
      "1     Supplier X       001-1001         2341  $500.00       1/20/14\n",
      "2     Supplier X       001-1001         5467  $750.00       1/20/14\n",
      "3     Supplier X       001-1001         5467  $750.00       1/20/14\n",
      "4     Supplier Y        50-9501         7009  $250.00       1/30/14\n",
      "5     Supplier Y        50-9501         7009  $250.00       1/30/14\n",
      "6     Supplier Y        50-9505         6650  $125.00     2002/3/14\n",
      "7     Supplier Y        50-9505         6650  $125.00     2002/3/14\n",
      "8     Supplier Z       920-4803         3321  $615.00     2002/3/14\n",
      "9     Supplier Z       920-4804         3321  $615.00    2002/10/14\n",
      "10    Supplier Z       920-4805         3321  $615.00       2/17/14\n",
      "11    Supplier Z       920-4806         3321  $615.00       2/24/14\n"
     ]
    }
   ],
   "source": [
    "#2.2.2 팬더스\n",
    "#팬더스로 오지 못할 뻔 했다.\n",
    "#!/urs/bin/env python3\n",
    "import sys\n",
    "import pandas as pd\n",
    "imput_file='supplier_data.csv'\n",
    "output_file='real.csv'\n",
    "\n",
    "data_frame=pd.read_csv(input_file)\n",
    "print(data_frame)\n",
    "data_frame.to_csv(output_file,index=False)\n",
    "\n"
   ]
  },
  {
   "cell_type": "code",
   "execution_count": 16,
   "metadata": {},
   "outputs": [
    {
     "name": "stdout",
     "output_type": "stream",
     "text": [
      "['Supplier Name', 'Invoice Number', 'Part Number', 'Cost', 'Purchase Date']\n",
      "['Supplier X', '001-1001', '2341', '$500.00 ', '1/20/14']\n",
      "['Supplier X', '001-1001', '2341', '$500.00 ', '1/20/14']\n",
      "['Supplier X', '001-1001', '5467', '$750.00 ', '1/20/14']\n",
      "['Supplier X', '001-1001', '5467', '$750.00 ', '1/20/14']\n",
      "['Supplier Y', '50-9501', '7009', '$250.00 ', '1/30/14']\n",
      "['Supplier Y', '50-9501', '7009', '$250.00 ', '1/30/14']\n",
      "['Supplier Y', '50-9505', '6650', '$125.00 ', '2002-03-14']\n",
      "['Supplier Y', '50-9505', '6650', '$125.00 ', '2002-03-14']\n",
      "['Supplier Z', '920-4803', '3321', '$615.00 ', '2002-03-14']\n",
      "['Supplier Z', '920-4804', '3321', '$615.00 ', '2002-10-14']\n",
      "['Supplier Z', '920-4805', '3321', '\"$6', '015.00 \"', '2/17/14']\n",
      "['Supplier Z', '920-4806', '3321', '\"$1', '006', '015.00 \"', '2/24/14']\n"
     ]
    }
   ],
   "source": [
    "#2.3 기본 문자열 파싱이 실패하는 경우\n",
    "#csv 파일에서 기본 문자열 파싱이 실패하는 경우\n",
    "#마지막 두 행에 쉼표값이 포함되어 있으므로 파싱이 실패하게 된다.\n",
    "#!/usr/bin/env pyhton3\n",
    "import sys\n",
    "\n",
    "input_file='supplier_data.csv'\n",
    "output_file='real.csv'\n",
    "\n",
    "\n",
    "with open(input_file,'r',newline='') as filereader:\n",
    "    with open(output_file,'w',newline='') as filewriter:\n",
    "        header=filereader.readline()\n",
    "        header=header.strip()\n",
    "        header_list=header.split(',')\n",
    "        print(header_list)\n",
    "        filewriter.write(','.join(map(str,header_list))+'\\n')\n",
    "        for row in filereader:\n",
    "            row =row.strip()\n",
    "            row_list=row.split(',')\n",
    "            print(row_list)\n",
    "            filewriter.write(','.join(map(str,row_list))+'\\n')"
   ]
  },
  {
   "cell_type": "code",
   "execution_count": 20,
   "metadata": {},
   "outputs": [
    {
     "name": "stdout",
     "output_type": "stream",
     "text": [
      "['Supplier Name', 'Invoice Number', 'Part Number', 'Cost', 'Purchase Date']\n",
      "['Supplier X', '001-1001', '2341', '$500.00 ', '1/20/14']\n",
      "['Supplier X', '001-1001', '2341', '$500.00 ', '1/20/14']\n",
      "['Supplier X', '001-1001', '5467', '$750.00 ', '1/20/14']\n",
      "['Supplier X', '001-1001', '5467', '$750.00 ', '1/20/14']\n",
      "['Supplier Y', '50-9501', '7009', '$250.00 ', '1/30/14']\n",
      "['Supplier Y', '50-9501', '7009', '$250.00 ', '1/30/14']\n",
      "['Supplier Y', '50-9505', '6650', '$125.00 ', '2002-03-14']\n",
      "['Supplier Y', '50-9505', '6650', '$125.00 ', '2002-03-14']\n",
      "['Supplier Z', '920-4803', '3321', '$615.00 ', '2002-03-14']\n",
      "['Supplier Z', '920-4804', '3321', '$615.00 ', '2002-10-14']\n",
      "['Supplier Z', '920-4805', '3321', '$6,015.00 ', '2/17/14']\n",
      "['Supplier Z', '920-4806', '3321', '$1,006,015.00 ', '2/24/14']\n"
     ]
    }
   ],
   "source": [
    "#2.4 CSV 파일 읽고 쓰기(파트2)\n",
    "#2.4.1 기본 파이썬(csv모듈 사용)\n",
    "#파이썬에 내장된 csv 모듈을 사용하여 데이터 값에 포함된 쉼표 및 기타 복잡한 패턴을 정확하게 처리할 수 있다.\n",
    "#정규표현식 및 조건부 수식을 설계하는 것보다 훨씬 간단\n",
    "#책에서는 명령 프롬프트로 설명하고 있는데 나는 쥬피터를 쓰고 있어서 이렇게 저렇게 바꿔서 해봐야한다.\n",
    "#여기서는 마지막 줄에 print(row_list)를 추가했는데,for문 아래에 추가했을 때는 마지막 행 한줄만 결과가 나왔다. 왜지?!\n",
    "#!/usr/bin/env pyhton3\n",
    "import csv\n",
    "import sys\n",
    "\n",
    "input_file='supplier_data.csv'\n",
    "output_file='real.csv'\n",
    "\n",
    "with open(input_file,'r',newline='') as csv_in_file:\n",
    "    with open(output_file,'w',newline='') as csv_out_file:\n",
    "        filereader=csv.reader(csv_in_file,delimiter=',')\n",
    "        filewriter=csv.writer(csv_out_file,delimiter=',')\n",
    "        for row_list in filereader:\n",
    "            filewriter.writerow(row_list)\n",
    "            print(row_list)\n"
   ]
  },
  {
   "cell_type": "code",
   "execution_count": null,
   "metadata": {
    "collapsed": true
   },
   "outputs": [],
   "source": [
    "#2.5 특정 행을 필터링하기\n",
    "#분석해야하는 파일에 필요한 것보다 많은 행이 포함되어 있는 경우가 있는데 쓸데없는 행들을 쳐내서 필터링할 수 있는 방법을 배워본다.\n",
    "##1특정 조건을 충족하는 행을 필터링하기\n",
    "##2특정 집합의 값을 포함하는 행을 필터링하기\n",
    "##3정규 표현식을 활용해 필터링하기\n",
    "# ***으로 둘러싸인 라인들을 수정하여 특정 비즨스 규칙을 적용하고 필요한 행을 추출하는 방법을 알아본다.\n",
    "for row in filereader:\n",
    "    ***if 행에 있는 값이 특정한 규칙(들)을 충족한다면***\n",
    "    이러이러한 일을 한다.\n",
    "    else:\n",
    "        아니면 뭔가 다른 일을 한다."
   ]
  },
  {
   "cell_type": "code",
   "execution_count": 32,
   "metadata": {},
   "outputs": [
    {
     "ename": "IndexError",
     "evalue": "list index out of range",
     "output_type": "error",
     "traceback": [
      "\u001b[1;31m---------------------------------------------------------------------------\u001b[0m",
      "\u001b[1;31mIndexError\u001b[0m                                Traceback (most recent call last)",
      "\u001b[1;32m<ipython-input-32-db62d4ae2037>\u001b[0m in \u001b[0;36m<module>\u001b[1;34m()\u001b[0m\n\u001b[0;32m     16\u001b[0m         \u001b[0mfilewriter\u001b[0m\u001b[1;33m.\u001b[0m\u001b[0mwriterow\u001b[0m\u001b[1;33m(\u001b[0m\u001b[0mheader\u001b[0m\u001b[1;33m)\u001b[0m\u001b[1;33m\u001b[0m\u001b[0m\n\u001b[0;32m     17\u001b[0m         \u001b[1;32mfor\u001b[0m \u001b[0mrow_list\u001b[0m \u001b[1;32min\u001b[0m \u001b[0mfilereader\u001b[0m\u001b[1;33m:\u001b[0m\u001b[1;33m\u001b[0m\u001b[0m\n\u001b[1;32m---> 18\u001b[1;33m             \u001b[0msupplier\u001b[0m\u001b[1;33m=\u001b[0m\u001b[0mstr\u001b[0m\u001b[1;33m(\u001b[0m\u001b[0mrow_list\u001b[0m\u001b[1;33m[\u001b[0m\u001b[1;36m0\u001b[0m\u001b[1;33m]\u001b[0m\u001b[1;33m)\u001b[0m\u001b[1;33m.\u001b[0m\u001b[0mstrip\u001b[0m\u001b[1;33m(\u001b[0m\u001b[1;33m)\u001b[0m\u001b[1;33m\u001b[0m\u001b[0m\n\u001b[0m\u001b[0;32m     19\u001b[0m             \u001b[0mcost\u001b[0m\u001b[1;33m=\u001b[0m\u001b[0mstr\u001b[0m\u001b[1;33m(\u001b[0m\u001b[0mrow_list\u001b[0m\u001b[1;33m[\u001b[0m\u001b[1;36m3\u001b[0m\u001b[1;33m]\u001b[0m\u001b[1;33m)\u001b[0m\u001b[1;33m.\u001b[0m\u001b[0mstrip\u001b[0m\u001b[1;33m(\u001b[0m\u001b[1;34m'$'\u001b[0m\u001b[1;33m)\u001b[0m\u001b[1;33m.\u001b[0m\u001b[0mreplace\u001b[0m\u001b[1;33m(\u001b[0m\u001b[1;34m','\u001b[0m\u001b[1;33m,\u001b[0m\u001b[1;34m''\u001b[0m\u001b[1;33m)\u001b[0m\u001b[1;33m\u001b[0m\u001b[0m\n\u001b[0;32m     20\u001b[0m             \u001b[1;32mif\u001b[0m \u001b[0msupplier\u001b[0m \u001b[1;33m==\u001b[0m\u001b[1;34m'Supplier Z'\u001b[0m \u001b[1;32mor\u001b[0m \u001b[0mfloat\u001b[0m\u001b[1;33m(\u001b[0m\u001b[0mcost\u001b[0m\u001b[1;33m)\u001b[0m\u001b[1;33m>\u001b[0m\u001b[1;36m600.0\u001b[0m\u001b[1;33m:\u001b[0m\u001b[1;33m\u001b[0m\u001b[0m\n",
      "\u001b[1;31mIndexError\u001b[0m: list index out of range"
     ]
    }
   ],
   "source": [
    "#2.5.1 특정 조건을 충족하는 행의 필터링\n",
    "#Supplier Name이 Supplier Z이거나 또는 Cost가 $600.00이상인 행만 필터링하고 그 결과를 출력 파일에 기록할 것이다.\n",
    "#동일여부를 평가하는데 등호== 2개 쓰는 것 기억할것\n",
    "#!/usr/bin/env python3\n",
    "import csv\n",
    "import sys\n",
    "\n",
    "input_file='supplier_data.csv'\n",
    "output_file='real.csv'\n",
    "\n",
    "with open(input_file,'r',newline='')as csv_in_file:\n",
    "    with open(output_file,'w',newline='')as csv_out_file:\n",
    "        filereader=csv.reader(csv_in_file)\n",
    "        filewriter=csv.writer(csv_out_file)\n",
    "        header=next(filereader)\n",
    "        filewriter.writerow(header)\n",
    "        for row_list in filereader:\n",
    "            supplier=str(row_list[0]).strip()\n",
    "            cost=str(row_list[3]).strip('$').replace(',','')\n",
    "            if supplier =='Supplier Z' or float(cost)>600.0:\n",
    "                filewriter.writerow(row_list)\n",
    "                "
   ]
  },
  {
   "cell_type": "code",
   "execution_count": 40,
   "metadata": {},
   "outputs": [
    {
     "name": "stdout",
     "output_type": "stream",
     "text": [
      "real.csv\n"
     ]
    }
   ],
   "source": [
    "#팬더스\n",
    "#팬더스는 특정 행과 열을 동시에 선택할 수 있는 loc()함수를 제공한다.\n",
    "#쉼표를 기준으로 앞에는 행을 필터링하는 조건을 지정하고, 뒤에는 열을 필터링하는 조건을 지정\n",
    "#!/usr/bin/env python3\n",
    "import pandas as pd\n",
    "import sys\n",
    "\n",
    "input_file='supplier_data.csv'\n",
    "output_file='real.csv'\n",
    "\n",
    "data_frame=pd.read_csv(input_file)\n",
    "\n",
    "data_frame['Cost']=data_frame['Cost'].str.strip('$')\n",
    "data_frame['Cost']=data_frame['Cost'].replace(\",\",\"\")\n",
    "# .astype(float)\n",
    "# data_frame_value_meets_condition=data_frame.loc[(data_frame['Supplier Name'].str.contains('Z'))|(data_frame['Cost']>600.0),:]\n",
    "# data_frame_values_meets_condition.to_csv(output_file,index=False)\n",
    "print(output_file)"
   ]
  },
  {
   "cell_type": "code",
   "execution_count": 41,
   "metadata": {},
   "outputs": [
    {
     "data": {
      "text/html": [
       "<div>\n",
       "<style>\n",
       "    .dataframe thead tr:only-child th {\n",
       "        text-align: right;\n",
       "    }\n",
       "\n",
       "    .dataframe thead th {\n",
       "        text-align: left;\n",
       "    }\n",
       "\n",
       "    .dataframe tbody tr th {\n",
       "        vertical-align: top;\n",
       "    }\n",
       "</style>\n",
       "<table border=\"1\" class=\"dataframe\">\n",
       "  <thead>\n",
       "    <tr style=\"text-align: right;\">\n",
       "      <th></th>\n",
       "      <th>Supplier Name</th>\n",
       "      <th>Invoice Number</th>\n",
       "      <th>Part Number</th>\n",
       "      <th>Cost</th>\n",
       "      <th>Purchase Date</th>\n",
       "    </tr>\n",
       "  </thead>\n",
       "  <tbody>\n",
       "    <tr>\n",
       "      <th>0</th>\n",
       "      <td>Supplier X</td>\n",
       "      <td>001-1001</td>\n",
       "      <td>2341</td>\n",
       "      <td>500.00</td>\n",
       "      <td>1/20/14</td>\n",
       "    </tr>\n",
       "    <tr>\n",
       "      <th>1</th>\n",
       "      <td>Supplier X</td>\n",
       "      <td>001-1001</td>\n",
       "      <td>2341</td>\n",
       "      <td>500.00</td>\n",
       "      <td>1/20/14</td>\n",
       "    </tr>\n",
       "    <tr>\n",
       "      <th>2</th>\n",
       "      <td>Supplier X</td>\n",
       "      <td>001-1001</td>\n",
       "      <td>5467</td>\n",
       "      <td>750.00</td>\n",
       "      <td>1/20/14</td>\n",
       "    </tr>\n",
       "    <tr>\n",
       "      <th>3</th>\n",
       "      <td>Supplier X</td>\n",
       "      <td>001-1001</td>\n",
       "      <td>5467</td>\n",
       "      <td>750.00</td>\n",
       "      <td>1/20/14</td>\n",
       "    </tr>\n",
       "    <tr>\n",
       "      <th>4</th>\n",
       "      <td>Supplier Y</td>\n",
       "      <td>50-9501</td>\n",
       "      <td>7009</td>\n",
       "      <td>250.00</td>\n",
       "      <td>1/30/14</td>\n",
       "    </tr>\n",
       "    <tr>\n",
       "      <th>5</th>\n",
       "      <td>Supplier Y</td>\n",
       "      <td>50-9501</td>\n",
       "      <td>7009</td>\n",
       "      <td>250.00</td>\n",
       "      <td>1/30/14</td>\n",
       "    </tr>\n",
       "    <tr>\n",
       "      <th>6</th>\n",
       "      <td>Supplier Y</td>\n",
       "      <td>50-9505</td>\n",
       "      <td>6650</td>\n",
       "      <td>125.00</td>\n",
       "      <td>2002-03-14</td>\n",
       "    </tr>\n",
       "    <tr>\n",
       "      <th>7</th>\n",
       "      <td>Supplier Y</td>\n",
       "      <td>50-9505</td>\n",
       "      <td>6650</td>\n",
       "      <td>125.00</td>\n",
       "      <td>2002-03-14</td>\n",
       "    </tr>\n",
       "    <tr>\n",
       "      <th>8</th>\n",
       "      <td>Supplier Z</td>\n",
       "      <td>920-4803</td>\n",
       "      <td>3321</td>\n",
       "      <td>615.00</td>\n",
       "      <td>2002-03-14</td>\n",
       "    </tr>\n",
       "    <tr>\n",
       "      <th>9</th>\n",
       "      <td>Supplier Z</td>\n",
       "      <td>920-4804</td>\n",
       "      <td>3321</td>\n",
       "      <td>615.00</td>\n",
       "      <td>2002-10-14</td>\n",
       "    </tr>\n",
       "    <tr>\n",
       "      <th>10</th>\n",
       "      <td>Supplier Z</td>\n",
       "      <td>920-4805</td>\n",
       "      <td>3321</td>\n",
       "      <td>6,015.00</td>\n",
       "      <td>2/17/14</td>\n",
       "    </tr>\n",
       "  </tbody>\n",
       "</table>\n",
       "</div>"
      ],
      "text/plain": [
       "   Supplier Name Invoice Number  Part Number      Cost Purchase Date\n",
       "0     Supplier X       001-1001         2341   500.00        1/20/14\n",
       "1     Supplier X       001-1001         2341   500.00        1/20/14\n",
       "2     Supplier X       001-1001         5467   750.00        1/20/14\n",
       "3     Supplier X       001-1001         5467   750.00        1/20/14\n",
       "4     Supplier Y        50-9501         7009   250.00        1/30/14\n",
       "5     Supplier Y        50-9501         7009   250.00        1/30/14\n",
       "6     Supplier Y        50-9505         6650   125.00     2002-03-14\n",
       "7     Supplier Y        50-9505         6650   125.00     2002-03-14\n",
       "8     Supplier Z       920-4803         3321   615.00     2002-03-14\n",
       "9     Supplier Z       920-4804         3321   615.00     2002-10-14\n",
       "10    Supplier Z       920-4805         3321  6,015.00       2/17/14"
      ]
     },
     "execution_count": 41,
     "metadata": {},
     "output_type": "execute_result"
    }
   ],
   "source": [
    "data_frame"
   ]
  },
  {
   "cell_type": "code",
   "execution_count": 31,
   "metadata": {},
   "outputs": [
    {
     "data": {
      "text/plain": [
       "6015.0"
      ]
     },
     "execution_count": 31,
     "metadata": {},
     "output_type": "execute_result"
    }
   ],
   "source": [
    "float('6015.00 ')"
   ]
  },
  {
   "cell_type": "code",
   "execution_count": 18,
   "metadata": {},
   "outputs": [
    {
     "data": {
      "text/plain": [
       "0           500.00 \n",
       "1           500.00 \n",
       "2           750.00 \n",
       "3           750.00 \n",
       "4           250.00 \n",
       "5           250.00 \n",
       "6           125.00 \n",
       "7           125.00 \n",
       "8           615.00 \n",
       "9           615.00 \n",
       "10        6,015.00 \n",
       "11    1,006,015.00 \n",
       "Name: Cost, dtype: object"
      ]
     },
     "execution_count": 18,
     "metadata": {},
     "output_type": "execute_result"
    }
   ],
   "source": [
    "data_frame['Cost'].str.strip('$')."
   ]
  },
  {
   "cell_type": "code",
   "execution_count": null,
   "metadata": {
    "collapsed": true
   },
   "outputs": [],
   "source": []
  },
  {
   "cell_type": "code",
   "execution_count": 9,
   "metadata": {},
   "outputs": [
    {
     "data": {
      "text/html": [
       "<div>\n",
       "<style>\n",
       "    .dataframe thead tr:only-child th {\n",
       "        text-align: right;\n",
       "    }\n",
       "\n",
       "    .dataframe thead th {\n",
       "        text-align: left;\n",
       "    }\n",
       "\n",
       "    .dataframe tbody tr th {\n",
       "        vertical-align: top;\n",
       "    }\n",
       "</style>\n",
       "<table border=\"1\" class=\"dataframe\">\n",
       "  <thead>\n",
       "    <tr style=\"text-align: right;\">\n",
       "      <th></th>\n",
       "      <th>Supplier Name</th>\n",
       "      <th>Invoice Number</th>\n",
       "      <th>Part Number</th>\n",
       "      <th>Cost</th>\n",
       "      <th>Purchase Date</th>\n",
       "    </tr>\n",
       "  </thead>\n",
       "  <tbody>\n",
       "    <tr>\n",
       "      <th>0</th>\n",
       "      <td>Supplier X</td>\n",
       "      <td>001-1001</td>\n",
       "      <td>2341</td>\n",
       "      <td>$500.00</td>\n",
       "      <td>1/20/14</td>\n",
       "    </tr>\n",
       "    <tr>\n",
       "      <th>1</th>\n",
       "      <td>Supplier X</td>\n",
       "      <td>001-1001</td>\n",
       "      <td>2341</td>\n",
       "      <td>$500.00</td>\n",
       "      <td>1/20/14</td>\n",
       "    </tr>\n",
       "    <tr>\n",
       "      <th>2</th>\n",
       "      <td>Supplier X</td>\n",
       "      <td>001-1001</td>\n",
       "      <td>5467</td>\n",
       "      <td>$750.00</td>\n",
       "      <td>1/20/14</td>\n",
       "    </tr>\n",
       "    <tr>\n",
       "      <th>3</th>\n",
       "      <td>Supplier X</td>\n",
       "      <td>001-1001</td>\n",
       "      <td>5467</td>\n",
       "      <td>$750.00</td>\n",
       "      <td>1/20/14</td>\n",
       "    </tr>\n",
       "    <tr>\n",
       "      <th>4</th>\n",
       "      <td>Supplier Y</td>\n",
       "      <td>50-9501</td>\n",
       "      <td>7009</td>\n",
       "      <td>$250.00</td>\n",
       "      <td>1/30/14</td>\n",
       "    </tr>\n",
       "    <tr>\n",
       "      <th>5</th>\n",
       "      <td>Supplier Y</td>\n",
       "      <td>50-9501</td>\n",
       "      <td>7009</td>\n",
       "      <td>$250.00</td>\n",
       "      <td>1/30/14</td>\n",
       "    </tr>\n",
       "    <tr>\n",
       "      <th>6</th>\n",
       "      <td>Supplier Y</td>\n",
       "      <td>50-9505</td>\n",
       "      <td>6650</td>\n",
       "      <td>$125.00</td>\n",
       "      <td>2002-03-14</td>\n",
       "    </tr>\n",
       "    <tr>\n",
       "      <th>7</th>\n",
       "      <td>Supplier Y</td>\n",
       "      <td>50-9505</td>\n",
       "      <td>6650</td>\n",
       "      <td>$125.00</td>\n",
       "      <td>2002-03-14</td>\n",
       "    </tr>\n",
       "    <tr>\n",
       "      <th>8</th>\n",
       "      <td>Supplier Z</td>\n",
       "      <td>920-4803</td>\n",
       "      <td>3321</td>\n",
       "      <td>$615.00</td>\n",
       "      <td>2002-03-14</td>\n",
       "    </tr>\n",
       "    <tr>\n",
       "      <th>9</th>\n",
       "      <td>Supplier Z</td>\n",
       "      <td>920-4804</td>\n",
       "      <td>3321</td>\n",
       "      <td>$615.00</td>\n",
       "      <td>2002-10-14</td>\n",
       "    </tr>\n",
       "    <tr>\n",
       "      <th>10</th>\n",
       "      <td>Supplier Z</td>\n",
       "      <td>920-4805</td>\n",
       "      <td>3321</td>\n",
       "      <td>$6,015.00</td>\n",
       "      <td>2/17/14</td>\n",
       "    </tr>\n",
       "    <tr>\n",
       "      <th>11</th>\n",
       "      <td>Supplier Z</td>\n",
       "      <td>920-4806</td>\n",
       "      <td>3321</td>\n",
       "      <td>$1,006,015.00</td>\n",
       "      <td>2/24/14</td>\n",
       "    </tr>\n",
       "  </tbody>\n",
       "</table>\n",
       "</div>"
      ],
      "text/plain": [
       "   Supplier Name Invoice Number  Part Number            Cost Purchase Date\n",
       "0     Supplier X       001-1001         2341        $500.00        1/20/14\n",
       "1     Supplier X       001-1001         2341        $500.00        1/20/14\n",
       "2     Supplier X       001-1001         5467        $750.00        1/20/14\n",
       "3     Supplier X       001-1001         5467        $750.00        1/20/14\n",
       "4     Supplier Y        50-9501         7009        $250.00        1/30/14\n",
       "5     Supplier Y        50-9501         7009        $250.00        1/30/14\n",
       "6     Supplier Y        50-9505         6650        $125.00     2002-03-14\n",
       "7     Supplier Y        50-9505         6650        $125.00     2002-03-14\n",
       "8     Supplier Z       920-4803         3321        $615.00     2002-03-14\n",
       "9     Supplier Z       920-4804         3321        $615.00     2002-10-14\n",
       "10    Supplier Z       920-4805         3321      $6,015.00        2/17/14\n",
       "11    Supplier Z       920-4806         3321  $1,006,015.00        2/24/14"
      ]
     },
     "execution_count": 9,
     "metadata": {},
     "output_type": "execute_result"
    }
   ],
   "source": [
    "data_frame"
   ]
  },
  {
   "cell_type": "code",
   "execution_count": null,
   "metadata": {
    "collapsed": true
   },
   "outputs": [],
   "source": []
  }
 ],
 "metadata": {
  "kernelspec": {
   "display_name": "Python 3",
   "language": "python",
   "name": "python3"
  },
  "language_info": {
   "codemirror_mode": {
    "name": "ipython",
    "version": 3
   },
   "file_extension": ".py",
   "mimetype": "text/x-python",
   "name": "python",
   "nbconvert_exporter": "python",
   "pygments_lexer": "ipython3",
   "version": "3.6.3"
  }
 },
 "nbformat": 4,
 "nbformat_minor": 2
}
